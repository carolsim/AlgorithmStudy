{
 "cells": [
  {
   "cell_type": "markdown",
   "metadata": {},
   "source": [
    "방금그곡\n",
    "라디오를 자주 듣는 네오는 라디오에서 방금 나왔던 음악이 무슨 음악인지 궁금해질 때가 많다. 그럴 때 네오는 다음 포털의 '방금그곡' 서비스를 이용하곤 한다. 방금그곡에서는 TV, 라디오 등에서 나온 음악에 관해 제목 등의 정보를 제공하는 서비스이다.\n",
    "\n",
    "네오는 자신이 기억한 멜로디를 가지고 방금그곡을 이용해 음악을 찾는다. 그런데 라디오 방송에서는 한 음악을 반복해서 재생할 때도 있어서 네오가 기억하고 있는 멜로디는 음악 끝부분과 처음 부분이 이어서 재생된 멜로디일 수도 있다. 반대로, 한 음악을 중간에 끊을 경우 원본 음악에는 네오가 기억한 멜로디가 들어있다 해도 그 곡이 네오가 들은 곡이 아닐 수도 있다. 그렇기 때문에 네오는 기억한 멜로디를 재생 시간과 제공된 악보를 직접 보면서 비교하려고 한다. 다음과 같은 가정을 할 때 네오가 찾으려는 음악의 제목을 구하여라.\n",
    "\n",
    "방금그곡 서비스에서는 음악 제목, 재생이 시작되고 끝난 시각, 악보를 제공한다.\n",
    "네오가 기억한 멜로디와 악보에 사용되는 음은 C, C#, D, D#, E, F, F#, G, G#, A, A#, B 12개이다.\n",
    "각 음은 1분에 1개씩 재생된다. 음악은 반드시 처음부터 재생되며 음악 길이보다 재생된 시간이 길 때는 음악이 끊김 없이 처음부터 반복해서 재생된다. 음악 길이보다 재생된 시간이 짧을 때는 처음부터 재생 시간만큼만 재생된다.\n",
    "음악이 00:00를 넘겨서까지 재생되는 일은 없다.\n",
    "조건이 일치하는 음악이 여러 개일 때에는 라디오에서 재생된 시간이 제일 긴 음악 제목을 반환한다. 재생된 시간도 같을 경우 먼저 입력된 음악 제목을 반환한다.\n",
    "조건이 일치하는 음악이 없을 때에는 `(None)`을 반환한다.\n",
    "입력 형식\n",
    "입력으로 네오가 기억한 멜로디를 담은 문자열 m과 방송된 곡의 정보를 담고 있는 배열 musicinfos가 주어진다.\n",
    "\n",
    "m은 음 1개 이상 1439개 이하로 구성되어 있다.\n",
    "musicinfos는 100개 이하의 곡 정보를 담고 있는 배열로, 각각의 곡 정보는 음악이 시작한 시각, 끝난 시각, 음악 제목, 악보 정보가 ','로 구분된 문자열이다.\n",
    "음악의 시작 시각과 끝난 시각은 24시간 HH:MM 형식이다.\n",
    "음악 제목은 ',' 이외의 출력 가능한 문자로 표현된 길이 1 이상 64 이하의 문자열이다.\n",
    "악보 정보는 음 1개 이상 1439개 이하로 구성되어 있다.\n",
    "출력 형식\n",
    "조건과 일치하는 음악 제목을 출력한다.\n",
    "\n",
    "입출력 예시\n",
    "m\tmusicinfos\tanswer\n",
    "ABCDEFG\t[12:00,12:14,HELLO,CDEFGAB, 13:00,13:05,WORLD,ABCDEF]\tHELLO\n",
    "CC#BCC#BCC#BCC#B\t[03:00,03:30,FOO,CC#B, 04:00,04:08,BAR,CC#BCC#BCC#B]\tFOO\n",
    "ABC\t[12:00,12:14,HELLO,C#DEFGAB, 13:00,13:05,WORLD,ABCDEF]\tWORLD\n",
    "설명\n",
    "첫 번째 예시에서 HELLO는 길이가 7분이지만 12:00부터 12:14까지 재생되었으므로 실제로 CDEFGABCDEFGAB로 재생되었고, 이 중에 기억한 멜로디인 ABCDEFG가 들어있다.\n",
    "세 번째 예시에서 HELLO는 C#DEFGABC#DEFGAB로, WORLD는 ABCDE로 재생되었다. HELLO 안에 있는 ABC#은 기억한 멜로디인 ABC와 일치하지 않고, WORLD 안에 있는 ABC가 기억한 멜로디와 일치한다.\n",
    "\n",
    "\n",
    "http://tech.kakao.com/2017/11/14/kakao-blind-recruitment-round-3/"
   ]
  },
  {
   "cell_type": "markdown",
   "metadata": {},
   "source": []
  },
  {
   "cell_type": "code",
   "execution_count": 13,
   "metadata": {},
   "outputs": [],
   "source": [
    "def solution(m, musicinfos):\n",
    "    answer = ''\n",
    "    \n",
    "    m = m.replace(\"C#\", \"c\")\n",
    "    m = m.replace(\"D#\", \"d\")\n",
    "    m = m.replace(\"F#\", \"f\")    \n",
    "    m = m.replace(\"G#\", \"g\")  #이 계속 m에 저장하는걸 바꿀 수 없을까!?   \n",
    "    m = m.replace(\"A#\", \"a\") \n",
    "    #m = \",\".join(m).split(',')\n",
    "    m_len = len(m)\n",
    "    #m = \"\".join(m)\n",
    "    time = [] #played time per music\n",
    "    m_played = [] #played melodies per music \n",
    "    result = []\n",
    "    \n",
    "    #get music playing time by sec\n",
    "    #(music end time (min) - music start time (min))*60 + music end time (sec) - music start time (sec)\n",
    "    for musicinfo in musicinfos:\n",
    "        time.append((int(musicinfo.split(\",\")[1].split(\":\")[0]) - int(musicinfo.split(\",\")[0].split(\":\")[0]))*60 \n",
    "        + (int(musicinfo.split(\",\")[1].split(\":\")[1]) - int(musicinfo.split(\",\")[0].split(\":\")[1])))\n",
    "\n",
    "    #if played music's lengh is shorter than m -> make them None\n",
    "    for idx, t in enumerate(time):                                 \n",
    "        if t < m_len:                                            \n",
    "             musicinfos[idx] = None\n",
    "\n",
    "    for idx, music in enumerate(musicinfos):\n",
    "        if music == None:\n",
    "            continue\n",
    "        else:\n",
    "            music = music.split(',')\n",
    "            music[3] = music[3].replace(\"C#\", \"c\")\n",
    "            music[3] = music[3].replace(\"D#\", \"d\")\n",
    "            music[3] = music[3].replace(\"F#\", \"f\")    \n",
    "            music[3] = music[3].replace(\"G#\", \"g\")  #이 계속 m에 저장하는걸 바꿀 수 없을까!?   \n",
    "            music[3] = music[3].replace(\"A#\", \"a\") \n",
    "            music_len = len(music[3])\n",
    "            if time[idx] <= music_len:\n",
    "                temp = music[3][:time[idx]]\n",
    "                if m in temp:\n",
    "                     result.append(idx)  \n",
    "            else:\n",
    "                temp = int((time[idx]/music_len))*music[3] + music[3][:time[idx]%music_len]\n",
    "                if m in temp:\n",
    "                    result.append(idx)\n",
    "        \n",
    "    if result == []:\n",
    "        answer = '(None)'\n",
    "    elif len(result) == 1:\n",
    "        answer = musicinfos[result[0]].split(',')[2]\n",
    "    else:\n",
    "        temp_time = 0\n",
    "        temp_idx = None\n",
    "        for i in result:\n",
    "            if temp_time < time[i]:\n",
    "                temp_time = time[i]\n",
    "                temp_idx = i\n",
    "            else:\n",
    "                continue\n",
    "        answer = musicinfos[temp_idx].split(',')[2]\n",
    "        \n",
    "    return answer"
   ]
  },
  {
   "cell_type": "code",
   "execution_count": 257,
   "metadata": {},
   "outputs": [],
   "source": [
    "#Other's solution\n",
    "\n",
    "def ttt(ts, te):\n",
    "    tmp = (int(te.split(\":\")[0]) - int(ts.split(\":\")[0])) * 60 + int(te.split(\":\")[1]) - int(ts.split(\":\")[1])\n",
    "    return tmp\n",
    "\n",
    "\n",
    "def con(s):\n",
    "    while s.find(\"#\") != -1:\n",
    "        a = s.find(\"#\")\n",
    "        s = s[:a - 1] + s[a - 1].lower() + s[a + 1:]\n",
    "    return s\n",
    "\n",
    "\n",
    "def solution_1(m, musicinfos):\n",
    "    m = con(m)\n",
    "    ans = ''\n",
    "    temp = 0\n",
    "    for i in musicinfos:\n",
    "        mu = i.split(',')[2]\n",
    "        ss = i.split(',')[3]\n",
    "        ti = ttt(i.split(',')[0], i.split(',')[1])\n",
    "        ss = con(ss)\n",
    "        tttt = ''\n",
    "        ttmp = ti\n",
    "        while ttmp > ss.__len__():\n",
    "            tttt += ss\n",
    "            ttmp -= ss.__len__()\n",
    "        tttt += ss[:ti]\n",
    "        if m in tttt and temp < ti:\n",
    "            ans = mu\n",
    "            temp = ti\n",
    "    return ans if ans != '' else \"(None)\"\n"
   ]
  },
  {
   "cell_type": "code",
   "execution_count": 14,
   "metadata": {
    "scrolled": true
   },
   "outputs": [
    {
     "name": "stdout",
     "output_type": "stream",
     "text": [
      "ABCDEFG m\n",
      "len 7\n",
      "ABCDEFG m\n"
     ]
    },
    {
     "data": {
      "text/plain": [
       "'HELLO'"
      ]
     },
     "execution_count": 14,
     "metadata": {},
     "output_type": "execute_result"
    }
   ],
   "source": [
    "solution(\"ABCDEFG\", [\"12:00,12:14,HELLO,CDEFGAB\", \"13:00,13:05,WORLD,ABCDEF\", \"13:00,13:12,WORLD,ABCDEF\"])"
   ]
  },
  {
   "cell_type": "code",
   "execution_count": 4,
   "metadata": {
    "scrolled": true
   },
   "outputs": [
    {
     "data": {
      "text/plain": [
       "'HELLO'"
      ]
     },
     "execution_count": 4,
     "metadata": {},
     "output_type": "execute_result"
    }
   ],
   "source": [
    "solution(\"ABCD\", [\"12:00,12:14,HELLO,CDEFGAB\", \"13:00,13:05,WORLD,ABCDEF\", \"13:00,13:12,WORLD,ABC\"])"
   ]
  },
  {
   "cell_type": "code",
   "execution_count": 5,
   "metadata": {},
   "outputs": [
    {
     "data": {
      "text/plain": [
       "'WORLD'"
      ]
     },
     "execution_count": 5,
     "metadata": {},
     "output_type": "execute_result"
    }
   ],
   "source": [
    "solution(\"ABC\", [\"12:00,12:14,HELLO,C#DEFGAB\", \"13:00,13:05,WORLD,ABCDEF\"])"
   ]
  },
  {
   "cell_type": "code",
   "execution_count": 6,
   "metadata": {
    "scrolled": false
   },
   "outputs": [
    {
     "data": {
      "text/plain": [
       "'FOO'"
      ]
     },
     "execution_count": 6,
     "metadata": {},
     "output_type": "execute_result"
    }
   ],
   "source": [
    "solution(\"CC#BCC#BCC#BCC#B\", [\"03:00,03:30,FOO,CC#B\", \"04:00,04:08,BAR,CC#BCC#BCC#B\"])"
   ]
  }
 ],
 "metadata": {
  "kernelspec": {
   "display_name": "Python 3",
   "language": "python",
   "name": "python3"
  },
  "language_info": {
   "codemirror_mode": {
    "name": "ipython",
    "version": 3
   },
   "file_extension": ".py",
   "mimetype": "text/x-python",
   "name": "python",
   "nbconvert_exporter": "python",
   "pygments_lexer": "ipython3",
   "version": "3.7.1"
  }
 },
 "nbformat": 4,
 "nbformat_minor": 2
}
