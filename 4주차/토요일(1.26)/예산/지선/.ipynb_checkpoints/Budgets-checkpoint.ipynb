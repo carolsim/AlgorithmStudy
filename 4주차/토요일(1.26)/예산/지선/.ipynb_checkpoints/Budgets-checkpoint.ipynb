{
 "cells": [
  {
   "cell_type": "code",
   "execution_count": null,
   "metadata": {},
   "outputs": [],
   "source": [
    "def solution(budgets, M):\n",
    "    budgets.sort()\n",
    "    left,right = 0, budgets[len(budgets)-1]\n",
    "    while(left<right):\n",
    "        mid = (left+right+1) // 2\n",
    "        if (calculate(budgets,M,mid) !=0):\n",
    "            left = mid\n",
    "        else:\n",
    "            right = mid -1\n",
    "    return left"
   ]
  }
 ],
 "metadata": {
  "kernelspec": {
   "display_name": "Python 3",
   "language": "python",
   "name": "python3"
  },
  "language_info": {
   "codemirror_mode": {
    "name": "ipython",
    "version": 3
   },
   "file_extension": ".py",
   "mimetype": "text/x-python",
   "name": "python",
   "nbconvert_exporter": "python",
   "pygments_lexer": "ipython3",
   "version": "3.6.2"
  }
 },
 "nbformat": 4,
 "nbformat_minor": 2
}
