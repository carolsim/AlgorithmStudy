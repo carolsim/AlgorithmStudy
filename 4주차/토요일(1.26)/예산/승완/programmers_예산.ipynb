{
 "cells": [
  {
   "cell_type": "markdown",
   "metadata": {},
   "source": [
    "문제 설명\n",
    "국가의 역할 중 하나는 여러 지방의 예산요청을 심사하여 국가의 예산을 분배하는 것입니다. 국가예산의 총액은 미리 정해져 있어서 모든 예산요청을 배정해 주기는 어려울 수도 있습니다. 그래서 정해진 총액 이하에서 가능한 한 최대의 총 예산을 다음과 같은 방법으로 배정합니다.\n",
    "\n",
    "1. 모든 요청이 배정될 수 있는 경우에는 요청한 금액을 그대로 배정합니다.\n",
    "2. 모든 요청이 배정될 수 없는 경우에는 특정한 정수 상한액을 계산하여 그 이상인 예산요청에는 모두 상한액을 배정합니다. \n",
    "   상한액 이하의 예산요청에 대해서는 요청한 금액을 그대로 배정합니다. \n",
    "예를 들어, 전체 국가예산이 485이고 4개 지방의 예산요청이 각각 120, 110, 140, 150일 때, 상한액을 127로 잡으면 위의 요청들에 대해서 각각 120, 110, 127, 127을 배정하고 그 합이 484로 가능한 최대가 됩니다.\n",
    "각 지방에서 요청하는 예산이 담긴 배열 budgets과 총 예산 M이 매개변수로 주어질 때, 위의 조건을 모두 만족하는 상한액을 return 하도록 solution 함수를 작성해주세요.\n",
    "\n",
    "제한 사항\n",
    "지방의 수는 3 이상 10,000 이하인 자연수입니다.\n",
    "각 지방에서 요청하는 예산은 1 이상 100,000 이하인 자연수입니다.\n",
    "총 예산은 지방의 수 이상 1,000,000,000 이하인 자연수입니다.\n",
    "입출력 예\n",
    "budgets\tM\treturn\n",
    "[120, 110, 140, 150]\t485\t127"
   ]
  },
  {
   "cell_type": "code",
   "execution_count": 69,
   "metadata": {},
   "outputs": [
    {
     "ename": "SyntaxError",
     "evalue": "invalid syntax (<ipython-input-69-c5004738d408>, line 18)",
     "output_type": "error",
     "traceback": [
      "\u001b[0;36m  File \u001b[0;32m\"<ipython-input-69-c5004738d408>\"\u001b[0;36m, line \u001b[0;32m18\u001b[0m\n\u001b[0;31m    if total < M\u001b[0m\n\u001b[0m                ^\u001b[0m\n\u001b[0;31mSyntaxError\u001b[0m\u001b[0;31m:\u001b[0m invalid syntax\n"
     ]
    }
   ],
   "source": [
    "def solution_1(budgets, M):\n",
    "    answer = 0\n",
    "    budget_len = len(budgets)\n",
    "    bud_sort = sorted(budgets)\n",
    "    low = 0\n",
    "    high = budget_len - 1\n",
    "    mid = (low + high)/2\n",
    "    total = 0\n",
    "    i = 0\n",
    "    \n",
    "    while i <budget_len:\n",
    "        if bud_sort[i] <= bud_sort[mid]:\n",
    "            total += bud_sort[i]\n",
    "        else:\n",
    "            total += mid\n",
    "        i += 1\n",
    "        \n",
    "    if total < M\n",
    "    \n",
    "    \n",
    "    \n",
    "    return answer"
   ]
  },
  {
   "cell_type": "code",
   "execution_count": 2,
   "metadata": {
    "scrolled": true
   },
   "outputs": [
    {
     "data": {
      "text/plain": [
       "127"
      ]
     },
     "execution_count": 2,
     "metadata": {},
     "output_type": "execute_result"
    }
   ],
   "source": [
    "solution([120, 110, 140, 150], 485)"
   ]
  },
  {
   "cell_type": "code",
   "execution_count": 3,
   "metadata": {},
   "outputs": [
    {
     "data": {
      "text/plain": [
       "1"
      ]
     },
     "execution_count": 3,
     "metadata": {},
     "output_type": "execute_result"
    }
   ],
   "source": [
    "solution([9, 8, 5, 6, 7], 5)"
   ]
  },
  {
   "cell_type": "code",
   "execution_count": 67,
   "metadata": {
    "scrolled": true
   },
   "outputs": [
    {
     "name": "stdout",
     "output_type": "stream",
     "text": [
      "430\n"
     ]
    },
    {
     "data": {
      "text/plain": [
       "120"
      ]
     },
     "execution_count": 67,
     "metadata": {},
     "output_type": "execute_result"
    }
   ],
   "source": [
    "solution([110, 120, 100, 100], 450)"
   ]
  },
  {
   "cell_type": "code",
   "execution_count": 68,
   "metadata": {},
   "outputs": [
    {
     "name": "stdout",
     "output_type": "stream",
     "text": [
      "100\n"
     ]
    },
    {
     "data": {
      "text/plain": [
       "9"
      ]
     },
     "execution_count": 68,
     "metadata": {},
     "output_type": "execute_result"
    }
   ],
   "source": [
    "solution([40, 20, 30, 10], 36)"
   ]
  },
  {
   "cell_type": "code",
   "execution_count": 4,
   "metadata": {},
   "outputs": [],
   "source": [
    "#recursive but Too slow :(\n",
    "def solution(budgets, M):\n",
    "    answer = 0\n",
    "    \n",
    "    budget_len = len(budgets)\n",
    "    X = int(M/budget_len) #middle point\n",
    "    bud_sort = sorted(budgets)\n",
    "    total = 0\n",
    "    i = 0\n",
    "    \n",
    "    bud_max = max(budgets)\n",
    "    bud_total = sum(budgets)\n",
    "    if bud_total <= M:\n",
    "        return bud_max\n",
    "    \n",
    "    \n",
    "    \n",
    "    while i < budget_len:\n",
    "        if bud_sort[i] <= X:\n",
    "            total += bud_sort[i]\n",
    "        else:\n",
    "            total += X\n",
    "        i += 1\n",
    "    \n",
    "    \n",
    "    if total <= M:\n",
    "        answer = first(bud_sort, X+1, M)\n",
    "    else:\n",
    "        answer = second(bud_sort, X-1, M)\n",
    "    \n",
    "    \n",
    "    return answer\n",
    "\n",
    "def first(bud, x, m):\n",
    "    i = 0\n",
    "    inner_total = 0\n",
    "    while i < len(bud):\n",
    "        if bud[i] <= x:\n",
    "            inner_total += bud[i]\n",
    "        else:\n",
    "            inner_total += x\n",
    "        i += 1\n",
    "    if inner_total <= m:\n",
    "        return first(bud, x+1, m)\n",
    "    else:\n",
    "        return x-1\n",
    "    \n",
    "\n",
    "def second(bud, x, m):\n",
    "    i = 0\n",
    "    inner_total = 0\n",
    "    while i < len(bud):\n",
    "        if bud[i] <= x:\n",
    "            inner_total += bud[i]\n",
    "        else:\n",
    "            inner_total += x\n",
    "        i += 1\n",
    "    if inner_total > m:\n",
    "        return second(bud, x-1, m)\n",
    "    else:\n",
    "        return x\n",
    "    \n",
    "    "
   ]
  },
  {
   "cell_type": "code",
   "execution_count": 6,
   "metadata": {},
   "outputs": [
    {
     "data": {
      "text/plain": [
       "180"
      ]
     },
     "execution_count": 6,
     "metadata": {},
     "output_type": "execute_result"
    }
   ],
   "source": [
    "solution([50, 50, 50, 50, 100, 100, 120, 120, 200, 240], 1000)"
   ]
  }
 ],
 "metadata": {
  "kernelspec": {
   "display_name": "Python 3",
   "language": "python",
   "name": "python3"
  },
  "language_info": {
   "codemirror_mode": {
    "name": "ipython",
    "version": 3
   },
   "file_extension": ".py",
   "mimetype": "text/x-python",
   "name": "python",
   "nbconvert_exporter": "python",
   "pygments_lexer": "ipython3",
   "version": "3.7.1"
  }
 },
 "nbformat": 4,
 "nbformat_minor": 2
}
