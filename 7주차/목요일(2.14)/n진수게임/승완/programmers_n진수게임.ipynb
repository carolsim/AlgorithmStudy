{
 "cells": [
  {
   "cell_type": "markdown",
   "metadata": {},
   "source": [
    "문제 설명\n",
    "N진수 게임\n",
    "튜브가 활동하는 코딩 동아리에서는 전통적으로 해오는 게임이 있다. 이 게임은 여러 사람이 둥글게 앉아서 숫자를 하나씩 차례대로 말하는 게임인데, 규칙은 다음과 같다.\n",
    "\n",
    "숫자를 0부터 시작해서 차례대로 말한다. 첫 번째 사람은 0, 두 번째 사람은 1, … 열 번째 사람은 9를 말한다.\n",
    "10 이상의 숫자부터는 한 자리씩 끊어서 말한다. 즉 열한 번째 사람은 10의 첫 자리인 1, 열두 번째 사람은 둘째 자리인 0을 말한다.\n",
    "이렇게 게임을 진행할 경우,\n",
    "0, 1, 2, 3, 4, 5, 6, 7, 8, 9, 1, 0, 1, 1, 1, 2, 1, 3, 1, 4, …\n",
    "순으로 숫자를 말하면 된다.\n",
    "\n",
    "한편 코딩 동아리 일원들은 컴퓨터를 다루는 사람답게 이진수로 이 게임을 진행하기도 하는데, 이 경우에는\n",
    "0, 1, 1, 0, 1, 1, 1, 0, 0, 1, 0, 1, 1, 1, 0, 1, 1, 1, …\n",
    "순으로 숫자를 말하면 된다.\n",
    "\n",
    "이진수로 진행하는 게임에 익숙해져 질려가던 사람들은 좀 더 난이도를 높이기 위해 이진법에서 십육진법까지 모든 진법으로 게임을 진행해보기로 했다. 숫자 게임이 익숙하지 않은 튜브는 게임에 져서 벌칙을 받는 굴욕을 피하기 위해, 자신이 말해야 하는 숫자를 스마트폰에 미리 출력해주는 프로그램을 만들려고 한다. 튜브의 프로그램을 구현하라.\n",
    "\n",
    "입력 형식\n",
    "진법 n, 미리 구할 숫자의 갯수 t, 게임에 참가하는 인원 m, 튜브의 순서 p 가 주어진다.\n",
    "\n",
    "2 ≦ n ≦ 16\n",
    "0 ＜ t ≦ 1000\n",
    "2 ≦ m ≦ 100\n",
    "1 ≦ p ≦ m\n",
    "출력 형식\n",
    "튜브가 말해야 하는 숫자 t개를 공백 없이 차례대로 나타낸 문자열. 단, 10~15는 각각 대문자 A~F로 출력한다.\n",
    "\n",
    "입출력 예제\n",
    "n\tt\tm\tp\tresult\n",
    "2\t4\t2\t1\t0111\n",
    "16\t16\t2\t1\t02468ACE11111111\n",
    "16\t16\t2\t2\t13579BDF01234567\n",
    "해설 보러가기 (http://tech.kakao.com/2017/11/14/kakao-blind-recruitment-round-3/)"
   ]
  },
  {
   "cell_type": "markdown",
   "metadata": {},
   "source": []
  },
  {
   "cell_type": "code",
   "execution_count": null,
   "metadata": {},
   "outputs": [],
   "source": [
    "#2nd answer! -> YEAH!!! CORRECT and FAST!!\n",
    "def solution(n, t, m, p):\n",
    "    answer = ''\n",
    "    counter = 0\n",
    "    changed_nums = []\n",
    "    temp_nums = []\n",
    "    T = \"0123456789ABCDEF\"\n",
    "    \n",
    "    while(len(changed_nums) < t*m):\n",
    "        temp_nums = []\n",
    "        temp_coun = counter\n",
    "        while(True):\n",
    "            counter, j = divmod(counter,n)\n",
    "    \n",
    "            if counter == 0:\n",
    "                temp_nums.insert(0, T[j])\n",
    "                counter = temp_coun\n",
    "                break\n",
    "            else:\n",
    "                temp_nums.insert(0, T[j])\n",
    "        changed_nums.append(\"\".join(temp_nums))\n",
    "        counter = counter +1\n",
    "    answer = \"\".join(changed_nums)\n",
    "    answer = \"\".join(answer[p-1:(m*t):m])\n",
    "    return answer"
   ]
  },
  {
   "cell_type": "code",
   "execution_count": 265,
   "metadata": {},
   "outputs": [],
   "source": [
    "#3rd answer! -> slower..!?\n",
    "def solution_1(n, t, m, p):\n",
    "    answer = ''\n",
    "    counter = 0\n",
    "    changed_nums = []\n",
    "    temp_nums = []\n",
    "    T = \"0123456789ABCDEF\"\n",
    "    \n",
    "    while(len(changed_nums) < t*m):\n",
    "        temp_nums = []\n",
    "        temp_coun = counter\n",
    "        while(True):\n",
    "            counter, j = divmod(counter,n)\n",
    "            if counter == 0:\n",
    "                temp_nums.insert(0, T[j])\n",
    "                counter = temp_coun\n",
    "                break\n",
    "            else:\n",
    "                temp_nums.insert(0, T[j])\n",
    "        changed_nums.append(\"\".join(temp_nums))\n",
    "        changed_nums = list(\"\".join(changed_nums))\n",
    "        counter = counter +1\n",
    "    answer = \"\".join(changed_nums)\n",
    "    answer = \"\".join(answer[p-1:(m*t):m])\n",
    "    return answer"
   ]
  },
  {
   "cell_type": "code",
   "execution_count": 264,
   "metadata": {
    "scrolled": true
   },
   "outputs": [
    {
     "data": {
      "text/plain": [
       "'0111'"
      ]
     },
     "execution_count": 264,
     "metadata": {},
     "output_type": "execute_result"
    }
   ],
   "source": [
    "solution(2, 4, 2, 1)"
   ]
  },
  {
   "cell_type": "code",
   "execution_count": 234,
   "metadata": {},
   "outputs": [
    {
     "data": {
      "text/plain": [
       "'02468ACE11111111'"
      ]
     },
     "execution_count": 234,
     "metadata": {},
     "output_type": "execute_result"
    }
   ],
   "source": [
    "solution(16, 16, 2, 1)"
   ]
  },
  {
   "cell_type": "code",
   "execution_count": 235,
   "metadata": {},
   "outputs": [
    {
     "data": {
      "text/plain": [
       "'2468A1411A522928D2133773DB4614C55495AD63369761B7817058698CD9539B7A3BAA1B25B89B0DC73CD7D5BDC000000000111111111222222222333333333444444444555555555666666666777777777888888888999999999AAAAAAAABBBBBBBBBCCCCCCCCCDDDDDDDDD00000000011111111122222222233333333344444444455555555566666666677777777888888888999999999AAAAAAAAABBBBBBBBBCCCCCCCCCDDDDDDDDD00000000011111111122222222233333333344444444555555555666666666777777777888888888999999999AAAAAAAAABBBBBBBBBCCCCCCCCCDDDDDDDDD00000000011111111222222222333333333444444444555555555666666666777777777888888888999999999AAAAAAAAABBBBBBBBBCCCCCCCCDDDDDDDDD00000000011111111122222222233333333344444444455555555566666666677777777788888888899999999AAAAAAAAABBBBBBBBBCCCCCCCCCDDDDDDDDD00000000011111111122222222233333333344444444455555555566666666777777777888888888999999999AAAAAAAAABBBBBBBBBCCCCCCCCCDDDDDDDDD00000000011111111122222222233333333444444444555555555666666666777777777888888888999999999AAAAAAAAABBBBBBBBBCCCCCCCCCDDDDDDDDD00000000111111111222222222333333333'"
      ]
     },
     "execution_count": 235,
     "metadata": {},
     "output_type": "execute_result"
    }
   ],
   "source": [
    "solution(14, 1000, 88, 20)"
   ]
  },
  {
   "cell_type": "code",
   "execution_count": null,
   "metadata": {},
   "outputs": [],
   "source": [
    "#first work -> slow cos of recursive func\n",
    "def conv(number,base):\n",
    "    T =\"0123456789ABCDEF\"\n",
    "    i,j=divmod(number,base)\n",
    "    if i==0:\n",
    "        return T[j]\n",
    "    else:\n",
    "        return conv(i,base)+T[j]\n",
    "\n",
    "def solution_0(n, t, m, p):\n",
    "    answer = ''\n",
    "    flag = True\n",
    "    counter = 0\n",
    "    changed_nums = []\n",
    "    \n",
    "    while(flag):\n",
    "        #changed_nums + list((conv(counter, n)))\n",
    "        changed_nums.append(conv(counter, n))\n",
    "        changed_nums = list(\"\".join(changed_nums))\n",
    "        counter += 1\n",
    "        \n",
    "        if(len(changed_nums) >= t*m):\n",
    "            flag = False\n",
    "    \n",
    "    answer = \"\".join(changed_nums[p-1:(m*t):m])\n",
    "    \n",
    "    return answer"
   ]
  },
  {
   "cell_type": "code",
   "execution_count": null,
   "metadata": {
    "collapsed": true
   },
   "outputs": [],
   "source": [
    "#Other's answer\n",
    "big = [\"A\",\"B\",\"C\",\"D\",\"E\",\"F\"]\n",
    "def solution_other(n, t, m, p):\n",
    "    a=\"0\"\n",
    "    i=0\n",
    "    #for i in range(t*m):\n",
    "    while True:\n",
    "        if len(a)>=t*m:\n",
    "            break\n",
    "        b=\"\"\n",
    "        j=i\n",
    "        while (j):\n",
    "            if j%n>9:\n",
    "                b=big[j%n-10]+b\n",
    "            else:\n",
    "                b=str(j%n)+b\n",
    "            j=j//n\n",
    "        a=a+b\n",
    "        i=i+1\n",
    "    answer = a[p-1::m][:t]\n",
    "    return answer"
   ]
  },
  {
   "cell_type": "code",
   "execution_count": 40,
   "metadata": {},
   "outputs": [
    {
     "name": "stdout",
     "output_type": "stream",
     "text": [
      "1\n",
      "conv:  1\n",
      "10\n",
      "conv:  10\n",
      "11\n",
      "conv:  11\n",
      "100\n",
      "conv:  100\n",
      "101\n",
      "conv:  101\n",
      "110\n",
      "conv:  110\n",
      "111\n",
      "conv:  111\n",
      "1000\n",
      "conv:  1000\n",
      "1001\n",
      "conv:  1001\n"
     ]
    }
   ],
   "source": [
    "#function test sheet\n",
    "n = 2\n",
    "counter = 1\n",
    "\n",
    "while(counter <10):\n",
    "    \n",
    "    print(format(counter, \"b\"))\n",
    "    print(\"conv: \", conv(counter, n))\n",
    "    counter += 1\n",
    "    \n",
    "    \n",
    "    \n",
    "#simple func I found\n",
    "def conv(number,base):\n",
    "  T =\"0123456789ABCDEF\"\n",
    "  i,j=divmod(number,base)\n",
    " \n",
    "  if i==0:\n",
    "    return T[j]\n",
    "  else:\n",
    "    return conv(i,base)+T[j]\n",
    " \n",
    "#https://sarc.io/index.php/development/857-python-bin-oct-dec-hex\n",
    "\n",
    "\n",
    "\n",
    "\n",
    "#when I get a result using  list[start:end:step]"
   ]
  }
 ],
 "metadata": {
  "kernelspec": {
   "display_name": "Python 3",
   "language": "python",
   "name": "python3"
  },
  "language_info": {
   "codemirror_mode": {
    "name": "ipython",
    "version": 3
   },
   "file_extension": ".py",
   "mimetype": "text/x-python",
   "name": "python",
   "nbconvert_exporter": "python",
   "pygments_lexer": "ipython3",
   "version": "3.7.1"
  }
 },
 "nbformat": 4,
 "nbformat_minor": 2
}
