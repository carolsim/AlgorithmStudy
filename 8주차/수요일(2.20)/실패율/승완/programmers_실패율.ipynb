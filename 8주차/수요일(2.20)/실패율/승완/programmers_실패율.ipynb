{
 "cells": [
  {
   "cell_type": "markdown",
   "metadata": {},
   "source": [
    "슈퍼 게임 개발자 오렐리는 큰 고민에 빠졌다. 그녀가 만든 프랜즈 오천성이 대성공을 거뒀지만, 요즘 신규 사용자의 수가 급감한 것이다. 원인은 신규 사용자와 기존 사용자 사이에 스테이지 차이가 너무 큰 것이 문제였다.\n",
    "\n",
    "이 문제를 어떻게 할까 고민 한 그녀는 동적으로 게임 시간을 늘려서 난이도를 조절하기로 했다. 역시 슈퍼 개발자라 대부분의 로직은 쉽게 구현했지만, 실패율을 구하는 부분에서 위기에 빠지고 말았다. 오렐리를 위해 실패율을 구하는 코드를 완성하라.\n",
    "\n",
    "실패율은 다음과 같이 정의한다.\n",
    "스테이지에 도달했으나 아직 클리어하지 못한 플레이어의 수 / 스테이지에 도달한 플레이어 수\n",
    "전체 스테이지의 개수 N, 게임을 이용하는 사용자가 현재 멈춰있는 스테이지의 번호가 담긴 배열 stages가 매개변수로 주어질 때, 실패율이 높은 스테이지부터 내림차순으로 스테이지의 번호가 담겨있는 배열을 return 하도록 solution 함수를 완성하라.\n",
    "\n",
    "제한사항\n",
    "스테이지의 개수 N은 1 이상 500 이하의 자연수이다.\n",
    "stages의 길이는 1 이상 200,000 이하이다.\n",
    "stages에는 1 이상 N + 1 이하의 자연수가 담겨있다.\n",
    "각 자연수는 사용자가 현재 도전 중인 스테이지의 번호를 나타낸다.\n",
    "단, N + 1 은 마지막 스테이지(N 번째 스테이지) 까지 클리어 한 사용자를 나타낸다.\n",
    "만약 실패율이 같은 스테이지가 있다면 작은 번호의 스테이지가 먼저 오도록 하면 된다.\n",
    "스테이지에 도달한 유저가 없는 경우 해당 스테이지의 실패율은 0 으로 정의한다.\n",
    "입출력 예\n",
    "N\tstages\tresult\n",
    "5\t[2, 1, 2, 6, 2, 4, 3, 3]\t[3,4,2,1,5]\n",
    "4\t[4,4,4,4,4]\t[4,1,2,3]\n",
    "입출력 예 설명\n",
    "입출력 예 #1\n",
    "1번 스테이지에는 총 8명의 사용자가 도전했으며, 이 중 1명의 사용자가 아직 클리어하지 못했다. 따라서 1번 스테이지의 실패율은 다음과 같다.\n",
    "\n",
    "1 번 스테이지 실패율 : 1/8\n",
    "2번 스테이지에는 총 7명의 사용자가 도전했으며, 이 중 3명의 사용자가 아직 클리어하지 못했다. 따라서 2번 스테이지의 실패율은 다음과 같다.\n",
    "\n",
    "2 번 스테이지 실패율 : 3/7\n",
    "마찬가지로 나머지 스테이지의 실패율은 다음과 같다.\n",
    "\n",
    "3 번 스테이지 실패율 : 2/4\n",
    "4번 스테이지 실패율 : 1/2\n",
    "5번 스테이지 실패율 : 0/1\n",
    "각 스테이지의 번호를 실패율의 내림차순으로 정렬하면 다음과 같다.\n",
    "\n",
    "[3,4,2,1,5]\n",
    "입출력 예 #2\n",
    "\n",
    "모든 사용자가 마지막 스테이지에 있으므로 4번 스테이지의 실패율은 1이며 나머지 스테이지의 실패율은 0이다.\n",
    "\n",
    "[4,1,2,3]"
   ]
  },
  {
   "cell_type": "markdown",
   "metadata": {},
   "source": []
  },
  {
   "cell_type": "code",
   "execution_count": 162,
   "metadata": {},
   "outputs": [],
   "source": [
    "def solution(N, stages):\n",
    "    answer = []\n",
    "    fail_rate = []\n",
    "    len_temp = len(stages)\n",
    "    length = []\n",
    "    last_len = 0 #직전 i의 개수\n",
    "\n",
    "    for i in range(1, N+1):\n",
    "        if i == 1:\n",
    "            length.append(len_temp)\n",
    "            continue\n",
    "        else:\n",
    "            len_temp -= stages.count(i-1)\n",
    "            length.append(len_temp)\n",
    "            \n",
    "    for i in range(1, N+1):\n",
    "        try:\n",
    "            fail_rate.append(stages.count(i)/length[i-1])\n",
    "            \n",
    "        except ZeroDivisionError as e:\n",
    "            fail_rate.append(0)\n",
    "    \n",
    "    while( N > 0 ):    \n",
    "        maxi = -1\n",
    "        maxi_idx = -1\n",
    "        for idx, val in enumerate(fail_rate):\n",
    "            if val == None:\n",
    "                continue\n",
    "            if maxi < val:\n",
    "                maxi = val\n",
    "                maxi_idx = idx + 1\n",
    "            else:\n",
    "                continue\n",
    "        answer.append(maxi_idx)\n",
    "        fail_rate[maxi_idx - 1] = None\n",
    "        N -= 1\n",
    "    \n",
    "    return answer    "
   ]
  },
  {
   "cell_type": "code",
   "execution_count": null,
   "metadata": {},
   "outputs": [],
   "source": [
    "#other's answer\n",
    "def solution_others(N, stages):\n",
    "    result = {}\n",
    "    denominator = len(stages)\n",
    "    for stage in range(1, N+1):\n",
    "        if denominator != 0:\n",
    "            count = stages.count(stage)\n",
    "            result[stage] = count / denominator\n",
    "            denominator -= count\n",
    "        else:\n",
    "            result[stage] = 0\n",
    "    return sorted(result, key=lambda x : result[x], reverse=True)"
   ]
  },
  {
   "cell_type": "code",
   "execution_count": null,
   "metadata": {},
   "outputs": [],
   "source": [
    "#other's answer-2\n",
    "def solution_others2(N, stages):\n",
    "    fail = {}\n",
    "    for i in range(1,N+1):\n",
    "        try:\n",
    "            fail_ = len([a for a in stages if a==i])/len([a for a in stages if a>=i])\n",
    "        except:\n",
    "            fail_ = 0\n",
    "        fail[i]=fail_\n",
    "    answer = sorted(fail, key=fail.get, reverse=True)\n",
    "    return answer\n",
    "\n"
   ]
  },
  {
   "cell_type": "code",
   "execution_count": 163,
   "metadata": {},
   "outputs": [
    {
     "data": {
      "text/plain": [
       "[3, 4, 2, 1, 5]"
      ]
     },
     "execution_count": 163,
     "metadata": {},
     "output_type": "execute_result"
    }
   ],
   "source": [
    "solution(5, [2, 1, 2, 6, 2, 4, 3, 3])"
   ]
  },
  {
   "cell_type": "code",
   "execution_count": 164,
   "metadata": {},
   "outputs": [
    {
     "data": {
      "text/plain": [
       "[4, 1, 2, 3]"
      ]
     },
     "execution_count": 164,
     "metadata": {},
     "output_type": "execute_result"
    }
   ],
   "source": [
    "solution(4, [4, 4, 4, 4])"
   ]
  },
  {
   "cell_type": "code",
   "execution_count": 102,
   "metadata": {},
   "outputs": [
    {
     "ename": "IndentationError",
     "evalue": "unexpected unindent (<ipython-input-102-367e2ca95f08>, line 24)",
     "output_type": "error",
     "traceback": [
      "\u001b[0;36m  File \u001b[0;32m\"<ipython-input-102-367e2ca95f08>\"\u001b[0;36m, line \u001b[0;32m24\u001b[0m\n\u001b[0;31m    for i in range(1, N+1):\u001b[0m\n\u001b[0m    ^\u001b[0m\n\u001b[0;31mIndentationError\u001b[0m\u001b[0;31m:\u001b[0m unexpected unindent\n"
     ]
    }
   ],
   "source": [
    "def solution1(N, stages):\n",
    "    answer = []\n",
    "    fail_rate = []\n",
    "    stages_sorted = str(sorted(stages)) #오름차순의 stages를 이용해서 i만큼 잘라가며 searching할 것 을 줄여나가고 실패율 계산도 함\n",
    "    len_temp = len(stages)\n",
    "    length = []\n",
    "    last_len = 0 #직전 i의 개수\n",
    "\n",
    "    \n",
    "    \n",
    "    for i in range(1, N+1):\n",
    "        try:\n",
    "            temp = str(stages_sorted.index(i+1))\n",
    "            length.append(temp)\n",
    "            stages_sorted = stages_sorted[temp:]\n",
    "    \n",
    "    \n",
    "    \n",
    "    \n",
    "    \n",
    "\n",
    "    \n",
    "    \n",
    "    for i in range(1, N+1):\n",
    "        \n",
    "                \n",
    "        try:\n",
    "            temp = stages.count(i)/len_temp\n",
    "            print(temp)\n",
    "        except ZeroDivisionError as e:\n",
    "            temp = 0\n",
    "\n",
    "                \n",
    "            \n",
    "\n",
    "    \n",
    "    \n",
    "    \n",
    "    \n",
    "    \n",
    "    \n",
    "    return answer"
   ]
  },
  {
   "cell_type": "code",
   "execution_count": 42,
   "metadata": {},
   "outputs": [
    {
     "name": "stdout",
     "output_type": "stream",
     "text": [
      "0.5\n",
      "[0.125, 0.42857142857142855, 0.5, 0.5, 0.0]\n",
      "@@ {0: 0.125, 1: 0.42857142857142855, 2: 0.5, 3: 0.5, 4: 0.0}\n",
      "!! [0.5, 0.5, 0.42857142857142855, 0.125, 0.0]\n"
     ]
    },
    {
     "ename": "ValueError",
     "evalue": "3 is not in list",
     "output_type": "error",
     "traceback": [
      "\u001b[0;31m---------------------------------------------------------------------------\u001b[0m",
      "\u001b[0;31mValueError\u001b[0m                                Traceback (most recent call last)",
      "\u001b[0;32m<ipython-input-42-7227c6abbdcb>\u001b[0m in \u001b[0;36m<module>\u001b[0;34m\u001b[0m\n\u001b[1;32m     20\u001b[0m \u001b[0;34m\u001b[0m\u001b[0m\n\u001b[1;32m     21\u001b[0m \u001b[0mlis\u001b[0m \u001b[0;34m=\u001b[0m \u001b[0;34m[\u001b[0m\u001b[0;36m1\u001b[0m\u001b[0;34m,\u001b[0m \u001b[0;36m1\u001b[0m\u001b[0;34m,\u001b[0m \u001b[0;36m1\u001b[0m\u001b[0;34m,\u001b[0m \u001b[0;36m2\u001b[0m\u001b[0;34m,\u001b[0m \u001b[0;36m2\u001b[0m\u001b[0;34m,\u001b[0m \u001b[0;36m4\u001b[0m\u001b[0;34m,\u001b[0m \u001b[0;36m4\u001b[0m\u001b[0;34m,\u001b[0m \u001b[0;36m5\u001b[0m\u001b[0;34m,\u001b[0m \u001b[0;36m6\u001b[0m\u001b[0;34m]\u001b[0m\u001b[0;34m\u001b[0m\u001b[0;34m\u001b[0m\u001b[0m\n\u001b[0;32m---> 22\u001b[0;31m \u001b[0mprint\u001b[0m\u001b[0;34m(\u001b[0m\u001b[0mlis\u001b[0m\u001b[0;34m.\u001b[0m\u001b[0mindex\u001b[0m\u001b[0;34m(\u001b[0m\u001b[0;36m3\u001b[0m\u001b[0;34m)\u001b[0m\u001b[0;34m)\u001b[0m\u001b[0;34m\u001b[0m\u001b[0;34m\u001b[0m\u001b[0m\n\u001b[0m",
      "\u001b[0;31mValueError\u001b[0m: 3 is not in list"
     ]
    }
   ],
   "source": [
    "#lab sheet\n",
    "p = [1/8, 3/7, 2/4, 1/2, 0/1]\n",
    "N = 5\n",
    "#p.sort(reverse=True)\n",
    "dic = {}\n",
    "print(p[3])\n",
    "print(p)\n",
    "\n",
    "\n",
    "for i in range(N):\n",
    "    dic[i] = p[i]\n",
    "print(\"@@\",dic)\n",
    "#dic.sort(reverse=True) 문법적으로 불가 \n",
    "dic = sorted(dic.values(),reverse=True)\n",
    "print(\"!!\",dic)\n",
    "#dict를 이용해서 idx를 살려서 key에 넣고(stage) 실패율을 value에 넣어서 실패율만 내림차순 정렬해서 value를 가져가려 했는데 안된다\n",
    "\n",
    "#그래서 그냥 리스트로 나열된걸 처음부터 읽으면서 비교하고 None으로 바꾸고 None읽으면 continue하는 걸로 가자!\n",
    "\n",
    "\n",
    "lis = [1, 1, 1, 2, 2, 4, 4, 5, 6]\n",
    "print(lis.index(3))\n"
   ]
  }
 ],
 "metadata": {
  "kernelspec": {
   "display_name": "Python 3",
   "language": "python",
   "name": "python3"
  },
  "language_info": {
   "codemirror_mode": {
    "name": "ipython",
    "version": 3
   },
   "file_extension": ".py",
   "mimetype": "text/x-python",
   "name": "python",
   "nbconvert_exporter": "python",
   "pygments_lexer": "ipython3",
   "version": "3.7.1"
  }
 },
 "nbformat": 4,
 "nbformat_minor": 2
}
